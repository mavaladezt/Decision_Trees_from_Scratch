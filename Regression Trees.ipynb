{
 "cells": [
  {
   "cell_type": "markdown",
   "metadata": {},
   "source": [
    "### Decision Trees - Regression (numpy)"
   ]
  },
  {
   "cell_type": "markdown",
   "metadata": {},
   "source": [
    "#### Decision Trees\n",
    "Decision Trees are predictive classifiction algorithms which split (branch) training data in a way that they can reach a conclusion (leaf). The tree is then used to predict the values using the test dataset.<br>\n",
    "There are different 'ways' this trees 'decide' where and in what order to split (here are a couple of them):<br>\n",
    " - Gini impurity: very usefull when dataset has labels\n",
    " - Variance reduction: used when labels take the form of continuous numbers\n",
    "\n",
    "Decision trees where the target variable can take continuous values (typically real numbers) are called regression trees.<br>\n",
    "\n",
    "#### Regression Trees\n",
    "Decision trees where the prediction label are real numbers.<br>\n",
    "\n",
    "__In the following implementation we will be using only numpy.__"
   ]
  },
  {
   "cell_type": "markdown",
   "metadata": {},
   "source": [
    "The data was obtained from:<br>\n",
    "__Dua, D. and Graff, C. (2019). UCI Machine Learning Repository (https://archive.ics.uci.edu/ml/datasets/Car+Evaluation). Irvine, CA: University of California, School of Information and Computer Science.__<br>\n",
    "\n",
    "Abstract: The model evaluates cars according to the following concept structure:<br>\n",
    "\n",
    "\n",
    "__Class Values__: unacc, acc, good, vgood \n",
    "\n",
    "__Attributes:__<br>\n",
    "__buying__: vhigh, high, med, low.<br>\n",
    "__maint__: vhigh, high, med, low<br>\n",
    "__doors__: 2, 3, 4, 5more<br>\n",
    "__persons__: 2, 4, more<br>\n",
    "__lug_boot__: small, med, big<br>\n",
    "__safety__: low, med, high<br>"
   ]
  },
  {
   "cell_type": "code",
   "execution_count": 71,
   "metadata": {},
   "outputs": [],
   "source": [
    "import csv\n",
    "import numpy as np"
   ]
  },
  {
   "cell_type": "markdown",
   "metadata": {},
   "source": [
    "#### Loading Data"
   ]
  },
  {
   "cell_type": "code",
   "execution_count": 72,
   "metadata": {},
   "outputs": [
    {
     "name": "stdout",
     "output_type": "stream",
     "text": [
      "Total no. of rows: 1728\n"
     ]
    }
   ],
   "source": [
    "file='car.data'\n",
    "with open(file, 'r') as csvfile:\n",
    "    rows=[]\n",
    "    csvreader = csv.reader(csvfile)\n",
    "    for row in csvreader:\n",
    "        rows.append(row)\n",
    "    print(\"Total no. of rows: %d\"%(len(rows)))"
   ]
  },
  {
   "cell_type": "markdown",
   "metadata": {},
   "source": [
    "#### Data Transformation\n",
    "We are going to transform all labels and text to numeric data in order to use regression trees."
   ]
  },
  {
   "cell_type": "code",
   "execution_count": 73,
   "metadata": {},
   "outputs": [
    {
     "name": "stdout",
     "output_type": "stream",
     "text": [
      "Field: 0 Values: {'high', 'low', 'vhigh', 'med'}\n",
      "Field: 1 Values: {'high', 'low', 'vhigh', 'med'}\n",
      "Field: 2 Values: {'3', '2', '5more', '4'}\n",
      "Field: 3 Values: {'2', '4', 'more'}\n",
      "Field: 4 Values: {'big', 'small', 'med'}\n",
      "Field: 5 Values: {'high', 'low', 'med'}\n",
      "Field: 6 Values: {'good', 'acc', 'vgood', 'unacc'}\n"
     ]
    }
   ],
   "source": [
    "n=len(rows)\n",
    "d=len(rows[0])\n",
    "\n",
    "for i in range(d):\n",
    "    field_values=set()\n",
    "    for row in rows:\n",
    "        field_values.add(row[i])\n",
    "    field_values\n",
    "    print('Field:',i,'Values:',field_values)"
   ]
  },
  {
   "cell_type": "code",
   "execution_count": 74,
   "metadata": {},
   "outputs": [
    {
     "name": "stdout",
     "output_type": "stream",
     "text": [
      "Field: 0 Values: {0, 1, 2, 3}\n",
      "Field: 1 Values: {0, 1, 2, 3}\n",
      "Field: 2 Values: {2, 3, 4, 5}\n",
      "Field: 3 Values: {2, 4, 5}\n",
      "Field: 4 Values: {0, 1, 2}\n",
      "Field: 5 Values: {0, 1, 2}\n",
      "Field: 6 Values: {0, 1, 2, 3}\n"
     ]
    }
   ],
   "source": [
    "dict_0 = {'high':2, 'low':0, 'med':1, 'vhigh':3}  #we can use this dictionary for columns 0, 1 and 5\n",
    "dict_2 = {'5more':5, '3':3, '2':2, '4':4}             #dictionary for column 2\n",
    "dict_3 = {'2':2, 'more':5, '4':4}                     #dictionary for column 3\n",
    "dict_4 = {'big':2, 'small':0, 'med':1}                #dictionary for column 4\n",
    "dict_6 = {'good':2, 'acc':1, 'unacc':0, 'vgood':3}    #dictionary for column 6\n",
    "\n",
    "dataset_list=[]\n",
    "for row in range(n):\n",
    "    temp=[]\n",
    "    for column in range(d):\n",
    "        if column in [0,1,5]:\n",
    "            temp.append(dict_0[rows[row][column]])\n",
    "        elif column ==2:\n",
    "            temp.append(dict_2[rows[row][column]])\n",
    "        elif column == 3:\n",
    "            temp.append(dict_3[rows[row][column]])\n",
    "        elif column == 4:\n",
    "            temp.append(dict_4[rows[row][column]])\n",
    "        elif column == 6:\n",
    "            temp.append(dict_6[rows[row][column]])\n",
    "        else:\n",
    "            temp.append('ERROR')\n",
    "    dataset_list.append(temp)\n",
    "\n",
    "for i in range(d):\n",
    "    field_values=set()\n",
    "    for row in dataset_list:\n",
    "        field_values.add(row[i])\n",
    "    field_values\n",
    "    print('Field:',i,'Values:',field_values)"
   ]
  },
  {
   "cell_type": "markdown",
   "metadata": {},
   "source": [
    "#### Creating Training and Testing Datasets"
   ]
  },
  {
   "cell_type": "code",
   "execution_count": 75,
   "metadata": {},
   "outputs": [
    {
     "name": "stdout",
     "output_type": "stream",
     "text": [
      "Proportion of data for training: 69.96 %\n"
     ]
    }
   ],
   "source": [
    "dataset = np.array(dataset_list)\n",
    "\n",
    "X=dataset[:,0:d-1]                         #first columns for X\n",
    "y=dataset[:,-1]                            #last column is y (label)\n",
    "\n",
    "indices = list(np.random.permutation(n))   #indices in random order\n",
    "train_proportion = 0.7                     #desired proportion for training dataset\n",
    "train_size=int(train_proportion*n)\n",
    "\n",
    "train_indices = indices[0:train_size]      #train indices\n",
    "test_indices = indices[train_size:]        #test indices\n",
    "\n",
    "print('Proportion of data for training:',int((10000*len(train_indices)/(len(train_indices)+len(test_indices))))/100,'%')\n",
    "\n",
    "#Train and Test Datasets\n",
    "X_train = X[train_indices,:]\n",
    "y_train = y[train_indices]\n",
    "X_test = X[test_indices,:]\n",
    "y_test = y[test_indices]"
   ]
  },
  {
   "cell_type": "code",
   "execution_count": 76,
   "metadata": {},
   "outputs": [],
   "source": [
    "def variance(y):\n",
    "    #This function will calculate how much variance exists between y labels\n",
    "    #Input:\n",
    "    #  y: numeric labels that will be used for evaluating variance\n",
    "    #Output:\n",
    "    #  variance: calculates variance of labels\n",
    "    return np.sum((y - np.mean(y))**2)"
   ]
  },
  {
   "cell_type": "code",
   "execution_count": 77,
   "metadata": {},
   "outputs": [],
   "source": [
    "def sqsplit(X_train, y_train):\n",
    "    #This function will evaluate where to split using the variance function\n",
    "    #Input:\n",
    "    #    X_train: X training set (numpy)\n",
    "    #    y_train: y training set (label vector)\n",
    "    #Output:\n",
    "    #    feature:  or column where data splits\n",
    "    #    cut: cut-value of the best cut\n",
    "    #    bestvar: variance where best cut happens\n",
    "    \n",
    "    N,D = X_train.shape\n",
    "    bestvar = np.inf\n",
    "    feature = np.inf\n",
    "    cut = np.inf\n",
    "    for i in range(D):\n",
    "        ordered_indices = np.argsort(X_train[:,i])        \n",
    "        for j in range(N-1):\n",
    "            var =  variance( y_train[ordered_indices[0:j+1]] ) + variance( y_train[ordered_indices[j+1:]] )\n",
    "            if var <= bestvar and X_train[ordered_indices[j+1],i] != X_train[ordered_indices[j],i]:\n",
    "                bestvar = var\n",
    "                cut = ( X_train[ordered_indices[j+1],i] + X_train[ordered_indices[j],i] ) / 2\n",
    "                feature = i\n",
    "    return feature, cut, bestvar"
   ]
  },
  {
   "cell_type": "code",
   "execution_count": 78,
   "metadata": {},
   "outputs": [],
   "source": [
    "class TreeNode(object):\n",
    "    #Tree class: we will be saving tree/branch/leaf information\n",
    "    #\n",
    "    def __init__(self, left, right, feature, cut, prediction):\n",
    "        self.left = left\n",
    "        self.right = right\n",
    "        self.feature = feature\n",
    "        self.cut = cut\n",
    "        self.prediction = prediction\n",
    "\n",
    "def cart(X_train,y_train):\n",
    "    #CART Tree: we will be using this function recursively. We will first put an if to see if we need to stop \n",
    "    #  constructing the tree or we should continue creating more branches/leaves\n",
    "    #Input:\n",
    "    #  X_train: feature matrix\n",
    "    #  y_train: label vector\n",
    "    #Output:\n",
    "    #  tree: decision tree\n",
    "\n",
    "    n,d = X_train.shape\n",
    "    indices_in_range_n = np.arange(n)\n",
    "    prediction = np.mean(y_train)\n",
    "    #we will stop if all y-labels are the same\n",
    "    if np.all(y_train == y_train[0]):\n",
    "        return TreeNode(None, None, None, None, prediction)    #this would be a leaf\n",
    "    else:\n",
    "        #this would be a branch\n",
    "        feature, cut, bestvar = sqsplit(X_train, y_train)                    #find new place where to split\n",
    "        left_indices =  indices_in_range_n[X_train[:, feature] <= cut]       #left side\n",
    "        right_indices =  indices_in_range_n[X_train[:, feature] > cut]       #right side\n",
    "        left_leaf = cart(X_train[left_indices,:],y_train[left_indices])      #find new branch/leaf\n",
    "        right_leaf = cart(X_train[right_indices,:],y_train[right_indices])   #find new branch/leaf\n",
    "        tree = TreeNode(left_leaf, right_leaf, feature, cut, prediction)     #construct the tree\n",
    "        left_leaf.parent = tree\n",
    "        right_leaf.parent = tree\n",
    "        return tree\n",
    "\n",
    "def predictions(tree,X_test):\n",
    "    #find predictions following branches of the decision tree\n",
    "    #Input:\n",
    "    #  tree: TreeNode decision tree\n",
    "    #  X_test:  n x d matrix of data points\n",
    "    #Output:\n",
    "    #  pred: n-dimensional vector of predictions\n",
    "\n",
    "    n,d = X_test.shape\n",
    "    pred = np.zeros(n)    #empty prediction vector\n",
    "\n",
    "    for i in range(n):\n",
    "        current_node = tree\n",
    "        while True:                 #infinite loop until it reaches a leaf\n",
    "            if current_node.left == current_node.right == None:   #if both sides are None it is a leaf\n",
    "                pred[i] = current_node.prediction\n",
    "                break               #found solution, so break to continue with next i\n",
    "            else:\n",
    "                if X_test[i,current_node.feature] <= current_node.cut:\n",
    "                    current_node = current_node.left\n",
    "                else:\n",
    "                    current_node = current_node.right\n",
    "    return pred"
   ]
  },
  {
   "cell_type": "code",
   "execution_count": 79,
   "metadata": {},
   "outputs": [
    {
     "name": "stdout",
     "output_type": "stream",
     "text": [
      "Accuracy: 97.69\n"
     ]
    }
   ],
   "source": [
    "parent=cart(X_train,y_train)\n",
    "prediction=predictions(parent,X_test)\n",
    "\n",
    "print('Accuracy:',round(100*np.sum(prediction==y_test)/len(prediction),2))"
   ]
  }
 ],
 "metadata": {
  "kernelspec": {
   "display_name": "Python 3",
   "language": "python",
   "name": "python3"
  },
  "language_info": {
   "codemirror_mode": {
    "name": "ipython",
    "version": 3
   },
   "file_extension": ".py",
   "mimetype": "text/x-python",
   "name": "python",
   "nbconvert_exporter": "python",
   "pygments_lexer": "ipython3",
   "version": "3.7.3"
  }
 },
 "nbformat": 4,
 "nbformat_minor": 2
}
